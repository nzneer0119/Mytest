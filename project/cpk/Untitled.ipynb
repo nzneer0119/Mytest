{
 "cells": [
  {
   "cell_type": "code",
   "execution_count": 2,
   "id": "943e8ad7",
   "metadata": {},
   "outputs": [
    {
     "name": "stdout",
     "output_type": "stream",
     "text": [
      "Collecting python-pptx\n",
      "  Downloading python-pptx-0.6.21.tar.gz (10.1 MB)\n",
      "  Preparing metadata (setup.py): started\n",
      "  Preparing metadata (setup.py): finished with status 'done'\n",
      "Requirement already satisfied: lxml>=3.1.0 in c:\\users\\504\\anaconda3\\lib\\site-packages (from python-pptx) (4.6.3)\n",
      "Requirement already satisfied: Pillow>=3.3.2 in c:\\users\\504\\anaconda3\\lib\\site-packages (from python-pptx) (8.2.0)\n",
      "Requirement already satisfied: XlsxWriter>=0.5.7 in c:\\users\\504\\anaconda3\\lib\\site-packages (from python-pptx) (1.3.8)\n",
      "Building wheels for collected packages: python-pptx\n",
      "  Building wheel for python-pptx (setup.py): started\n",
      "  Building wheel for python-pptx (setup.py): finished with status 'done'\n",
      "  Created wheel for python-pptx: filename=python_pptx-0.6.21-py3-none-any.whl size=471172 sha256=10a8e64a9c82610c40b950ee787253f266a4eebd6a83bef3877dad53811ee554\n",
      "  Stored in directory: c:\\users\\504\\appdata\\local\\pip\\cache\\wheels\\b0\\38\\58\\8530ed1681bfee42349acf166867cc9fb369517b2fce83e599\n",
      "Successfully built python-pptx\n",
      "Installing collected packages: python-pptx\n",
      "Successfully installed python-pptx-0.6.21\n"
     ]
    }
   ],
   "source": [
    "!pip install python-pptx"
   ]
  },
  {
   "cell_type": "code",
   "execution_count": 3,
   "id": "6c44b440",
   "metadata": {},
   "outputs": [],
   "source": [
    "from pptx import Presentation # 라이브러리 \n",
    "from pptx.util import Inches # 사진, 표등을 그리기 위해\n",
    "\n",
    "prs = Presentation() # 파워포인트 객체 선언\n",
    "\n",
    "for i in range(0, 11):\n",
    "    title_slide_layout = prs.slide_layouts[i]  # 슬라이드 종류 선택\n",
    "    slide = prs.slides.add_slide(title_slide_layout) # 슬라이드 추가\n",
    "    \n",
    "prs.save('add all slides.pptx')"
   ]
  },
  {
   "cell_type": "code",
   "execution_count": null,
   "id": "fd95296b",
   "metadata": {},
   "outputs": [],
   "source": [
    "from pptx import Presentation # 라이브러리 \n",
    "from pptx.util import Inches # 사진, 표등을 그리기 위해\n",
    "\n",
    "prs = Presentation()\n",
    "for i in range(0, 11):\n",
    "    print(\"--------[%d] ------ \"%(i))\n",
    "    slide = prs.slides.add_slide(prs.slide_layouts[i])\n",
    "    for shape in slide.placeholders:\n",
    "        print('%d %s' % (shape.placeholder_format.idx, shape.name))"
   ]
  },
  {
   "cell_type": "code",
   "execution_count": 4,
   "id": "0f2c1120",
   "metadata": {},
   "outputs": [],
   "source": [
    "title_slide_layout = prs.slide_layouts[0] # 0 : 제목슬라이드에 해당\n",
    "slide = prs.slides.add_slide(title_slide_layout) # 슬라이드 추가\n",
    "\n",
    "# 제목 - 제목에 값넣기\n",
    "title = slide.placeholders[0] # 제목\n",
    "title.text = \"Hello, World!\" # 제목에 값 넣기\n",
    "\n",
    "# 부제목\n",
    "subtitle = slide.placeholders[1] # 제목상자는 placeholders[0], 부제목상자는 [1]\n",
    "subtitle.text = \"python-pptx was here!\" \n",
    "\n",
    "# 저장\n",
    "prs.save('test.pptx')"
   ]
  },
  {
   "cell_type": "code",
   "execution_count": 5,
   "id": "6d4ce463",
   "metadata": {},
   "outputs": [],
   "source": [
    "bullet_slide_layout = prs.slide_layouts[1] # 1 : 제목 + 내용 슬라이드\n",
    "slide = prs.slides.add_slide(bullet_slide_layout) # 기존에 있던 슬라이드에 추가\n",
    "\n",
    "# 제목\n",
    "title_shape = slide.placeholders[0] \n",
    "title_shape.text = 'Adding a Bullet Slide'\n",
    "\n",
    "# 내용\n",
    "body_shape = slide.placeholders[1]\n",
    "tf = body_shape.text_frame\n",
    "tf.text = 'Find the bullet slide layout'\n",
    "\n",
    "# 단락 추가\n",
    "p = tf.add_paragraph()\n",
    "p.text = 'Use _TextFrame.text for first bullet'\n",
    "p.level = 1  # 1 : 들여쓰기 레벨\n",
    "\n",
    "# 단락 추가 \n",
    "p = tf.add_paragraph()\n",
    "p.text = 'Use _TextFrame.add_paragraph() for subsequent bullets'\n",
    "p.level = 2  # 2 : 들여쓰기 레벨\n",
    "\n",
    "prs.save('test.pptx')"
   ]
  },
  {
   "cell_type": "code",
   "execution_count": 6,
   "id": "972417f6",
   "metadata": {},
   "outputs": [
    {
     "ename": "FileNotFoundError",
     "evalue": "[Errno 2] No such file or directory: 'res/powerpoint_handling/slide_test.jpg'",
     "output_type": "error",
     "traceback": [
      "\u001b[1;31m---------------------------------------------------------------------------\u001b[0m",
      "\u001b[1;31mFileNotFoundError\u001b[0m                         Traceback (most recent call last)",
      "\u001b[1;32m<ipython-input-6-5a2d4a7b3a92>\u001b[0m in \u001b[0;36m<module>\u001b[1;34m\u001b[0m\n\u001b[0;32m      7\u001b[0m \u001b[0mwidth\u001b[0m \u001b[1;33m=\u001b[0m \u001b[0mheight\u001b[0m \u001b[1;33m=\u001b[0m \u001b[0mInches\u001b[0m\u001b[1;33m(\u001b[0m\u001b[1;36m1\u001b[0m\u001b[1;33m)\u001b[0m\u001b[1;33m\u001b[0m\u001b[1;33m\u001b[0m\u001b[0m\n\u001b[0;32m      8\u001b[0m \u001b[1;31m# width, hegith가 없을 경우 원본 사이즈로\u001b[0m\u001b[1;33m\u001b[0m\u001b[1;33m\u001b[0m\u001b[1;33m\u001b[0m\u001b[0m\n\u001b[1;32m----> 9\u001b[1;33m \u001b[0mpic\u001b[0m \u001b[1;33m=\u001b[0m \u001b[0mslide\u001b[0m\u001b[1;33m.\u001b[0m\u001b[0mshapes\u001b[0m\u001b[1;33m.\u001b[0m\u001b[0madd_picture\u001b[0m\u001b[1;33m(\u001b[0m\u001b[0mimg_path\u001b[0m\u001b[1;33m,\u001b[0m \u001b[0mleft\u001b[0m\u001b[1;33m,\u001b[0m \u001b[0mtop\u001b[0m\u001b[1;33m,\u001b[0m \u001b[0mwidth\u001b[0m\u001b[1;33m=\u001b[0m\u001b[0mwidth\u001b[0m\u001b[1;33m,\u001b[0m\u001b[0mheight\u001b[0m\u001b[1;33m=\u001b[0m\u001b[0mheight\u001b[0m\u001b[1;33m)\u001b[0m\u001b[1;33m\u001b[0m\u001b[1;33m\u001b[0m\u001b[0m\n\u001b[0m\u001b[0;32m     10\u001b[0m \u001b[1;33m\u001b[0m\u001b[0m\n\u001b[0;32m     11\u001b[0m \u001b[0mleft\u001b[0m \u001b[1;33m=\u001b[0m \u001b[0mInches\u001b[0m\u001b[1;33m(\u001b[0m\u001b[1;36m3\u001b[0m\u001b[1;33m)\u001b[0m\u001b[1;33m\u001b[0m\u001b[1;33m\u001b[0m\u001b[0m\n",
      "\u001b[1;32m~\\anaconda3\\lib\\site-packages\\pptx\\shapes\\shapetree.py\u001b[0m in \u001b[0;36madd_picture\u001b[1;34m(self, image_file, left, top, width, height)\u001b[0m\n\u001b[0;32m    330\u001b[0m         \u001b[0mwithout\u001b[0m \u001b[0mregard\u001b[0m \u001b[0mto\u001b[0m \u001b[0mits\u001b[0m \u001b[0mnative\u001b[0m \u001b[0maspect\u001b[0m \u001b[0mratio\u001b[0m\u001b[1;33m.\u001b[0m\u001b[1;33m\u001b[0m\u001b[1;33m\u001b[0m\u001b[0m\n\u001b[0;32m    331\u001b[0m         \"\"\"\n\u001b[1;32m--> 332\u001b[1;33m         \u001b[0mimage_part\u001b[0m\u001b[1;33m,\u001b[0m \u001b[0mrId\u001b[0m \u001b[1;33m=\u001b[0m \u001b[0mself\u001b[0m\u001b[1;33m.\u001b[0m\u001b[0mpart\u001b[0m\u001b[1;33m.\u001b[0m\u001b[0mget_or_add_image_part\u001b[0m\u001b[1;33m(\u001b[0m\u001b[0mimage_file\u001b[0m\u001b[1;33m)\u001b[0m\u001b[1;33m\u001b[0m\u001b[1;33m\u001b[0m\u001b[0m\n\u001b[0m\u001b[0;32m    333\u001b[0m         \u001b[0mpic\u001b[0m \u001b[1;33m=\u001b[0m \u001b[0mself\u001b[0m\u001b[1;33m.\u001b[0m\u001b[0m_add_pic_from_image_part\u001b[0m\u001b[1;33m(\u001b[0m\u001b[0mimage_part\u001b[0m\u001b[1;33m,\u001b[0m \u001b[0mrId\u001b[0m\u001b[1;33m,\u001b[0m \u001b[0mleft\u001b[0m\u001b[1;33m,\u001b[0m \u001b[0mtop\u001b[0m\u001b[1;33m,\u001b[0m \u001b[0mwidth\u001b[0m\u001b[1;33m,\u001b[0m \u001b[0mheight\u001b[0m\u001b[1;33m)\u001b[0m\u001b[1;33m\u001b[0m\u001b[1;33m\u001b[0m\u001b[0m\n\u001b[0;32m    334\u001b[0m         \u001b[0mself\u001b[0m\u001b[1;33m.\u001b[0m\u001b[0m_recalculate_extents\u001b[0m\u001b[1;33m(\u001b[0m\u001b[1;33m)\u001b[0m\u001b[1;33m\u001b[0m\u001b[1;33m\u001b[0m\u001b[0m\n",
      "\u001b[1;32m~\\anaconda3\\lib\\site-packages\\pptx\\parts\\slide.py\u001b[0m in \u001b[0;36mget_or_add_image_part\u001b[1;34m(self, image_file)\u001b[0m\n\u001b[0;32m     37\u001b[0m         \u001b[0mrelationship\u001b[0m \u001b[0malready\u001b[0m \u001b[0mexists\u001b[0m\u001b[1;33m,\u001b[0m \u001b[0mthey\u001b[0m \u001b[0mare\u001b[0m \u001b[0mreused\u001b[0m\u001b[1;33m,\u001b[0m \u001b[0motherwise\u001b[0m \u001b[0mthey\u001b[0m \u001b[0mare\u001b[0m \u001b[0mnewly\u001b[0m \u001b[0mcreated\u001b[0m\u001b[1;33m.\u001b[0m\u001b[1;33m\u001b[0m\u001b[1;33m\u001b[0m\u001b[0m\n\u001b[0;32m     38\u001b[0m         \"\"\"\n\u001b[1;32m---> 39\u001b[1;33m         \u001b[0mimage_part\u001b[0m \u001b[1;33m=\u001b[0m \u001b[0mself\u001b[0m\u001b[1;33m.\u001b[0m\u001b[0m_package\u001b[0m\u001b[1;33m.\u001b[0m\u001b[0mget_or_add_image_part\u001b[0m\u001b[1;33m(\u001b[0m\u001b[0mimage_file\u001b[0m\u001b[1;33m)\u001b[0m\u001b[1;33m\u001b[0m\u001b[1;33m\u001b[0m\u001b[0m\n\u001b[0m\u001b[0;32m     40\u001b[0m         \u001b[0mrId\u001b[0m \u001b[1;33m=\u001b[0m \u001b[0mself\u001b[0m\u001b[1;33m.\u001b[0m\u001b[0mrelate_to\u001b[0m\u001b[1;33m(\u001b[0m\u001b[0mimage_part\u001b[0m\u001b[1;33m,\u001b[0m \u001b[0mRT\u001b[0m\u001b[1;33m.\u001b[0m\u001b[0mIMAGE\u001b[0m\u001b[1;33m)\u001b[0m\u001b[1;33m\u001b[0m\u001b[1;33m\u001b[0m\u001b[0m\n\u001b[0;32m     41\u001b[0m         \u001b[1;32mreturn\u001b[0m \u001b[0mimage_part\u001b[0m\u001b[1;33m,\u001b[0m \u001b[0mrId\u001b[0m\u001b[1;33m\u001b[0m\u001b[1;33m\u001b[0m\u001b[0m\n",
      "\u001b[1;32m~\\anaconda3\\lib\\site-packages\\pptx\\package.py\u001b[0m in \u001b[0;36mget_or_add_image_part\u001b[1;34m(self, image_file)\u001b[0m\n\u001b[0;32m     34\u001b[0m         \u001b[0motherwise\u001b[0m \u001b[0ma\u001b[0m \u001b[0mnew\u001b[0m \u001b[0mone\u001b[0m \u001b[1;32mis\u001b[0m \u001b[0mcreated\u001b[0m\u001b[1;33m.\u001b[0m\u001b[1;33m\u001b[0m\u001b[1;33m\u001b[0m\u001b[0m\n\u001b[0;32m     35\u001b[0m         \"\"\"\n\u001b[1;32m---> 36\u001b[1;33m         \u001b[1;32mreturn\u001b[0m \u001b[0mself\u001b[0m\u001b[1;33m.\u001b[0m\u001b[0m_image_parts\u001b[0m\u001b[1;33m.\u001b[0m\u001b[0mget_or_add_image_part\u001b[0m\u001b[1;33m(\u001b[0m\u001b[0mimage_file\u001b[0m\u001b[1;33m)\u001b[0m\u001b[1;33m\u001b[0m\u001b[1;33m\u001b[0m\u001b[0m\n\u001b[0m\u001b[0;32m     37\u001b[0m \u001b[1;33m\u001b[0m\u001b[0m\n\u001b[0;32m     38\u001b[0m     \u001b[1;32mdef\u001b[0m \u001b[0mget_or_add_media_part\u001b[0m\u001b[1;33m(\u001b[0m\u001b[0mself\u001b[0m\u001b[1;33m,\u001b[0m \u001b[0mmedia\u001b[0m\u001b[1;33m)\u001b[0m\u001b[1;33m:\u001b[0m\u001b[1;33m\u001b[0m\u001b[1;33m\u001b[0m\u001b[0m\n",
      "\u001b[1;32m~\\anaconda3\\lib\\site-packages\\pptx\\package.py\u001b[0m in \u001b[0;36mget_or_add_image_part\u001b[1;34m(self, image_file)\u001b[0m\n\u001b[0;32m    149\u001b[0m         \u001b[0mthat\u001b[0m \u001b[0minstance\u001b[0m \u001b[1;32mis\u001b[0m \u001b[0mreturned\u001b[0m\u001b[1;33m,\u001b[0m \u001b[0motherwise\u001b[0m \u001b[0ma\u001b[0m \u001b[0mnew\u001b[0m \u001b[0mimage\u001b[0m \u001b[0mpart\u001b[0m \u001b[1;32mis\u001b[0m \u001b[0mcreated\u001b[0m\u001b[1;33m.\u001b[0m\u001b[1;33m\u001b[0m\u001b[1;33m\u001b[0m\u001b[0m\n\u001b[0;32m    150\u001b[0m         \"\"\"\n\u001b[1;32m--> 151\u001b[1;33m         \u001b[0mimage\u001b[0m \u001b[1;33m=\u001b[0m \u001b[0mImage\u001b[0m\u001b[1;33m.\u001b[0m\u001b[0mfrom_file\u001b[0m\u001b[1;33m(\u001b[0m\u001b[0mimage_file\u001b[0m\u001b[1;33m)\u001b[0m\u001b[1;33m\u001b[0m\u001b[1;33m\u001b[0m\u001b[0m\n\u001b[0m\u001b[0;32m    152\u001b[0m         \u001b[0mimage_part\u001b[0m \u001b[1;33m=\u001b[0m \u001b[0mself\u001b[0m\u001b[1;33m.\u001b[0m\u001b[0m_find_by_sha1\u001b[0m\u001b[1;33m(\u001b[0m\u001b[0mimage\u001b[0m\u001b[1;33m.\u001b[0m\u001b[0msha1\u001b[0m\u001b[1;33m)\u001b[0m\u001b[1;33m\u001b[0m\u001b[1;33m\u001b[0m\u001b[0m\n\u001b[0;32m    153\u001b[0m         \u001b[1;32mreturn\u001b[0m \u001b[0mImagePart\u001b[0m\u001b[1;33m.\u001b[0m\u001b[0mnew\u001b[0m\u001b[1;33m(\u001b[0m\u001b[0mself\u001b[0m\u001b[1;33m.\u001b[0m\u001b[0m_package\u001b[0m\u001b[1;33m,\u001b[0m \u001b[0mimage\u001b[0m\u001b[1;33m)\u001b[0m \u001b[1;32mif\u001b[0m \u001b[0mimage_part\u001b[0m \u001b[1;32mis\u001b[0m \u001b[1;32mNone\u001b[0m \u001b[1;32melse\u001b[0m \u001b[0mimage_part\u001b[0m\u001b[1;33m\u001b[0m\u001b[1;33m\u001b[0m\u001b[0m\n",
      "\u001b[1;32m~\\anaconda3\\lib\\site-packages\\pptx\\parts\\image.py\u001b[0m in \u001b[0;36mfrom_file\u001b[1;34m(cls, image_file)\u001b[0m\n\u001b[0;32m    160\u001b[0m         \u001b[1;32mif\u001b[0m \u001b[0mis_string\u001b[0m\u001b[1;33m(\u001b[0m\u001b[0mimage_file\u001b[0m\u001b[1;33m)\u001b[0m\u001b[1;33m:\u001b[0m\u001b[1;33m\u001b[0m\u001b[1;33m\u001b[0m\u001b[0m\n\u001b[0;32m    161\u001b[0m             \u001b[1;31m# treat image_file as a path\u001b[0m\u001b[1;33m\u001b[0m\u001b[1;33m\u001b[0m\u001b[1;33m\u001b[0m\u001b[0m\n\u001b[1;32m--> 162\u001b[1;33m             \u001b[1;32mwith\u001b[0m \u001b[0mopen\u001b[0m\u001b[1;33m(\u001b[0m\u001b[0mimage_file\u001b[0m\u001b[1;33m,\u001b[0m \u001b[1;34m\"rb\"\u001b[0m\u001b[1;33m)\u001b[0m \u001b[1;32mas\u001b[0m \u001b[0mf\u001b[0m\u001b[1;33m:\u001b[0m\u001b[1;33m\u001b[0m\u001b[1;33m\u001b[0m\u001b[0m\n\u001b[0m\u001b[0;32m    163\u001b[0m                 \u001b[0mblob\u001b[0m \u001b[1;33m=\u001b[0m \u001b[0mf\u001b[0m\u001b[1;33m.\u001b[0m\u001b[0mread\u001b[0m\u001b[1;33m(\u001b[0m\u001b[1;33m)\u001b[0m\u001b[1;33m\u001b[0m\u001b[1;33m\u001b[0m\u001b[0m\n\u001b[0;32m    164\u001b[0m             \u001b[0mfilename\u001b[0m \u001b[1;33m=\u001b[0m \u001b[0mos\u001b[0m\u001b[1;33m.\u001b[0m\u001b[0mpath\u001b[0m\u001b[1;33m.\u001b[0m\u001b[0mbasename\u001b[0m\u001b[1;33m(\u001b[0m\u001b[0mimage_file\u001b[0m\u001b[1;33m)\u001b[0m\u001b[1;33m\u001b[0m\u001b[1;33m\u001b[0m\u001b[0m\n",
      "\u001b[1;31mFileNotFoundError\u001b[0m: [Errno 2] No such file or directory: 'res/powerpoint_handling/slide_test.jpg'"
     ]
    }
   ],
   "source": [
    "img_path = 'res/powerpoint_handling/slide_test.jpg'\n",
    "\n",
    "blank_slide_layout = prs.slide_layouts[6] # 6 : 제목/내용이 없는 '빈' 슬라이드\n",
    "slide = prs.slides.add_slide(blank_slide_layout)\n",
    "\n",
    "left = top = Inches(1)\n",
    "width = height = Inches(1)\n",
    "# width, hegith가 없을 경우 원본 사이즈로 \n",
    "pic = slide.shapes.add_picture(img_path, left, top, width=width,height=height)\n",
    "\n",
    "left = Inches(3)\n",
    "width = Inches(5.5)\n",
    "height = Inches(4)\n",
    "pic = slide.shapes.add_picture(img_path, left, top, width=width,height=height)\n",
    "\n",
    "prs.save('test.pptx')"
   ]
  },
  {
   "cell_type": "code",
   "execution_count": 7,
   "id": "8ff430ba",
   "metadata": {},
   "outputs": [],
   "source": [
    "title_only_slide_layout = prs.slide_layouts[5]\n",
    "slide = prs.slides.add_slide(title_only_slide_layout)\n",
    "shapes = slide.shapes\n",
    "\n",
    "title_shape = slide.placeholders[0] \n",
    "title_shape.text = 'Adding a Table'\n",
    "\n",
    "rows = cols = 2\n",
    "left = top = Inches(2.0)\n",
    "width = Inches(6.0)\n",
    "height = Inches(0.8)\n",
    "\n",
    "table = shapes.add_table(rows, cols, left, top, width, height).table\n",
    "\n",
    "# set column widths\n",
    "table.columns[0].width = Inches(2.0)\n",
    "table.columns[1].width = Inches(4.0)\n",
    "\n",
    "# write column headings\n",
    "table.cell(0, 0).text = 'Foo'\n",
    "table.cell(0, 1).text = 'Bar'\n",
    "\n",
    "# write body cells\n",
    "table.cell(1, 0).text = 'Baz'\n",
    "table.cell(1, 1).text = 'Qux'\n",
    "\n",
    "prs.save('test.pptx')"
   ]
  },
  {
   "cell_type": "code",
   "execution_count": null,
   "id": "da7a9b47",
   "metadata": {},
   "outputs": [],
   "source": []
  },
  {
   "cell_type": "code",
   "execution_count": null,
   "id": "aa377ab2",
   "metadata": {},
   "outputs": [],
   "source": []
  }
 ],
 "metadata": {
  "kernelspec": {
   "display_name": "Python 3",
   "language": "python",
   "name": "python3"
  },
  "language_info": {
   "codemirror_mode": {
    "name": "ipython",
    "version": 3
   },
   "file_extension": ".py",
   "mimetype": "text/x-python",
   "name": "python",
   "nbconvert_exporter": "python",
   "pygments_lexer": "ipython3",
   "version": "3.8.8"
  }
 },
 "nbformat": 4,
 "nbformat_minor": 5
}
