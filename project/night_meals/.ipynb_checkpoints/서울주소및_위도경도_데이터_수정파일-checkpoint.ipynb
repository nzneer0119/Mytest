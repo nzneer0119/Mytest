{
 "cells": [
  {
   "cell_type": "code",
   "execution_count": 1,
   "id": "7ca21dfb",
   "metadata": {
    "scrolled": true
   },
   "outputs": [
    {
     "data": {
      "text/html": [
       "<div>\n",
       "<style scoped>\n",
       "    .dataframe tbody tr th:only-of-type {\n",
       "        vertical-align: middle;\n",
       "    }\n",
       "\n",
       "    .dataframe tbody tr th {\n",
       "        vertical-align: top;\n",
       "    }\n",
       "\n",
       "    .dataframe thead th {\n",
       "        text-align: right;\n",
       "    }\n",
       "</style>\n",
       "<table border=\"1\" class=\"dataframe\">\n",
       "  <thead>\n",
       "    <tr style=\"text-align: right;\">\n",
       "      <th></th>\n",
       "      <th>Unnamed: 0</th>\n",
       "      <th>업종</th>\n",
       "      <th>가게이름</th>\n",
       "      <th>평가점수</th>\n",
       "      <th>평가인원</th>\n",
       "      <th>리뷰갯수</th>\n",
       "      <th>주소</th>\n",
       "      <th>Latitude</th>\n",
       "      <th>Longitude</th>\n",
       "      <th>전화</th>\n",
       "      <th>영업시간</th>\n",
       "      <th>링크주소</th>\n",
       "    </tr>\n",
       "  </thead>\n",
       "  <tbody>\n",
       "    <tr>\n",
       "      <th>0</th>\n",
       "      <td>20384</td>\n",
       "      <td>일식</td>\n",
       "      <td>아라키</td>\n",
       "      <td>0.0</td>\n",
       "      <td>0</td>\n",
       "      <td>0</td>\n",
       "      <td>서울 중구 을지로5길 19</td>\n",
       "      <td>37.566921</td>\n",
       "      <td>126.983964</td>\n",
       "      <td>02-6353-8578</td>\n",
       "      <td>NaN</td>\n",
       "      <td>https://place.map.kakao.com/865059627#review</td>\n",
       "    </tr>\n",
       "    <tr>\n",
       "      <th>1</th>\n",
       "      <td>7924</td>\n",
       "      <td>족발,보쌈</td>\n",
       "      <td>위대한족보</td>\n",
       "      <td>3.8</td>\n",
       "      <td>5</td>\n",
       "      <td>20</td>\n",
       "      <td>서울 중랑구 답십리로77길 11 1층</td>\n",
       "      <td>37.572089</td>\n",
       "      <td>127.081440</td>\n",
       "      <td>02-438-8008</td>\n",
       "      <td>월,수,목,금,토,일 14:00 ~ 00:00</td>\n",
       "      <td>https://place.map.kakao.com/99546281#review</td>\n",
       "    </tr>\n",
       "    <tr>\n",
       "      <th>2</th>\n",
       "      <td>16890</td>\n",
       "      <td>국수</td>\n",
       "      <td>마루칼국수</td>\n",
       "      <td>4.7</td>\n",
       "      <td>3</td>\n",
       "      <td>1</td>\n",
       "      <td>서울 용산구 두텁바위로1길 42</td>\n",
       "      <td>37.546123</td>\n",
       "      <td>126.974486</td>\n",
       "      <td>02-3789-2630</td>\n",
       "      <td>NaN</td>\n",
       "      <td>https://place.map.kakao.com/248675031#review</td>\n",
       "    </tr>\n",
       "    <tr>\n",
       "      <th>3</th>\n",
       "      <td>15547</td>\n",
       "      <td>한식</td>\n",
       "      <td>먹쇠집</td>\n",
       "      <td>4.8</td>\n",
       "      <td>4</td>\n",
       "      <td>3</td>\n",
       "      <td>서울 종로구 종로 297-3</td>\n",
       "      <td>37.571978</td>\n",
       "      <td>127.010776</td>\n",
       "      <td>02-741-1426</td>\n",
       "      <td>NaN</td>\n",
       "      <td>https://place.map.kakao.com/9763716#review</td>\n",
       "    </tr>\n",
       "    <tr>\n",
       "      <th>4</th>\n",
       "      <td>5772</td>\n",
       "      <td>카페</td>\n",
       "      <td>카페더로비</td>\n",
       "      <td>3.9</td>\n",
       "      <td>10</td>\n",
       "      <td>34</td>\n",
       "      <td>서울 도봉구 방학로 171-5</td>\n",
       "      <td>37.661988</td>\n",
       "      <td>127.033254</td>\n",
       "      <td>02-954-1715</td>\n",
       "      <td>화~일 11:00 ~ 23:00</td>\n",
       "      <td>https://place.map.kakao.com/447862448#review</td>\n",
       "    </tr>\n",
       "    <tr>\n",
       "      <th>...</th>\n",
       "      <td>...</td>\n",
       "      <td>...</td>\n",
       "      <td>...</td>\n",
       "      <td>...</td>\n",
       "      <td>...</td>\n",
       "      <td>...</td>\n",
       "      <td>...</td>\n",
       "      <td>...</td>\n",
       "      <td>...</td>\n",
       "      <td>...</td>\n",
       "      <td>...</td>\n",
       "      <td>...</td>\n",
       "    </tr>\n",
       "    <tr>\n",
       "      <th>891</th>\n",
       "      <td>7002</td>\n",
       "      <td>냉면</td>\n",
       "      <td>혜화면옥</td>\n",
       "      <td>3.1</td>\n",
       "      <td>18</td>\n",
       "      <td>25</td>\n",
       "      <td>서울 성북구 보문로 193-1</td>\n",
       "      <td>37.590818</td>\n",
       "      <td>127.013917</td>\n",
       "      <td>02-921-3451</td>\n",
       "      <td>매일 11:00 ~ 22:00</td>\n",
       "      <td>https://place.map.kakao.com/26481780#review</td>\n",
       "    </tr>\n",
       "    <tr>\n",
       "      <th>892</th>\n",
       "      <td>2610</td>\n",
       "      <td>돈까스,우동</td>\n",
       "      <td>신온누리에 생돈까스전문점 대방점</td>\n",
       "      <td>1.7</td>\n",
       "      <td>56</td>\n",
       "      <td>85</td>\n",
       "      <td>서울 동작구 여의대방로24길 107</td>\n",
       "      <td>37.499147</td>\n",
       "      <td>126.925928</td>\n",
       "      <td>02-823-8589</td>\n",
       "      <td>매일 10:30 ~ 21:00</td>\n",
       "      <td>https://place.map.kakao.com/11832450#review</td>\n",
       "    </tr>\n",
       "    <tr>\n",
       "      <th>893</th>\n",
       "      <td>21111</td>\n",
       "      <td>양식</td>\n",
       "      <td>파스타미샤</td>\n",
       "      <td>0.0</td>\n",
       "      <td>0</td>\n",
       "      <td>0</td>\n",
       "      <td>서울 종로구 창덕궁길 59</td>\n",
       "      <td>37.580135</td>\n",
       "      <td>126.989144</td>\n",
       "      <td>NaN</td>\n",
       "      <td>NaN</td>\n",
       "      <td>https://place.map.kakao.com/1469768429#review</td>\n",
       "    </tr>\n",
       "    <tr>\n",
       "      <th>894</th>\n",
       "      <td>5339</td>\n",
       "      <td>호프,요리주점</td>\n",
       "      <td>지금보고싶다</td>\n",
       "      <td>3.0</td>\n",
       "      <td>2</td>\n",
       "      <td>38</td>\n",
       "      <td>서울 관악구 남현3길 74</td>\n",
       "      <td>37.475305</td>\n",
       "      <td>126.980670</td>\n",
       "      <td>NaN</td>\n",
       "      <td>NaN</td>\n",
       "      <td>https://place.map.kakao.com/19959503#review</td>\n",
       "    </tr>\n",
       "    <tr>\n",
       "      <th>895</th>\n",
       "      <td>14216</td>\n",
       "      <td>돈까스,우동</td>\n",
       "      <td>66번가돈카</td>\n",
       "      <td>4.8</td>\n",
       "      <td>4</td>\n",
       "      <td>4</td>\n",
       "      <td>서울 성북구 보문로 66</td>\n",
       "      <td>37.581210</td>\n",
       "      <td>127.021823</td>\n",
       "      <td>02-953-7868</td>\n",
       "      <td>매일 11:30 ~ 22:30</td>\n",
       "      <td>https://place.map.kakao.com/977311975#review</td>\n",
       "    </tr>\n",
       "  </tbody>\n",
       "</table>\n",
       "<p>896 rows × 12 columns</p>\n",
       "</div>"
      ],
      "text/plain": [
       "     Unnamed: 0       업종               가게이름  평가점수  평가인원  리뷰갯수  \\\n",
       "0         20384       일식                아라키   0.0     0     0   \n",
       "1          7924    족발,보쌈              위대한족보   3.8     5    20   \n",
       "2         16890       국수              마루칼국수   4.7     3     1   \n",
       "3         15547       한식                먹쇠집   4.8     4     3   \n",
       "4          5772       카페              카페더로비   3.9    10    34   \n",
       "..          ...      ...                ...   ...   ...   ...   \n",
       "891        7002       냉면               혜화면옥   3.1    18    25   \n",
       "892        2610   돈까스,우동  신온누리에 생돈까스전문점 대방점   1.7    56    85   \n",
       "893       21111       양식              파스타미샤   0.0     0     0   \n",
       "894        5339  호프,요리주점             지금보고싶다   3.0     2    38   \n",
       "895       14216   돈까스,우동             66번가돈카   4.8     4     4   \n",
       "\n",
       "                       주소   Latitude   Longitude            전화  \\\n",
       "0          서울 중구 을지로5길 19  37.566921  126.983964  02-6353-8578   \n",
       "1    서울 중랑구 답십리로77길 11 1층  37.572089  127.081440   02-438-8008   \n",
       "2       서울 용산구 두텁바위로1길 42  37.546123  126.974486  02-3789-2630   \n",
       "3         서울 종로구 종로 297-3  37.571978  127.010776   02-741-1426   \n",
       "4        서울 도봉구 방학로 171-5  37.661988  127.033254   02-954-1715   \n",
       "..                    ...        ...         ...           ...   \n",
       "891      서울 성북구 보문로 193-1  37.590818  127.013917   02-921-3451   \n",
       "892   서울 동작구 여의대방로24길 107  37.499147  126.925928   02-823-8589   \n",
       "893        서울 종로구 창덕궁길 59  37.580135  126.989144           NaN   \n",
       "894        서울 관악구 남현3길 74  37.475305  126.980670           NaN   \n",
       "895         서울 성북구 보문로 66  37.581210  127.021823   02-953-7868   \n",
       "\n",
       "                          영업시간                                           링크주소  \n",
       "0                          NaN   https://place.map.kakao.com/865059627#review  \n",
       "1    월,수,목,금,토,일 14:00 ~ 00:00    https://place.map.kakao.com/99546281#review  \n",
       "2                          NaN   https://place.map.kakao.com/248675031#review  \n",
       "3                          NaN     https://place.map.kakao.com/9763716#review  \n",
       "4            화~일 11:00 ~ 23:00   https://place.map.kakao.com/447862448#review  \n",
       "..                         ...                                            ...  \n",
       "891           매일 11:00 ~ 22:00    https://place.map.kakao.com/26481780#review  \n",
       "892           매일 10:30 ~ 21:00    https://place.map.kakao.com/11832450#review  \n",
       "893                        NaN  https://place.map.kakao.com/1469768429#review  \n",
       "894                        NaN    https://place.map.kakao.com/19959503#review  \n",
       "895           매일 11:30 ~ 22:30   https://place.map.kakao.com/977311975#review  \n",
       "\n",
       "[896 rows x 12 columns]"
      ]
     },
     "execution_count": 1,
     "metadata": {},
     "output_type": "execute_result"
    }
   ],
   "source": [
    "import pandas as pd\n",
    "\n",
    "sel= pd.read_excel('./샘플링데이터위도경도표시.xlsx')\n",
    "sel"
   ]
  },
  {
   "cell_type": "code",
   "execution_count": 2,
   "id": "8938c0cd",
   "metadata": {
    "scrolled": true
   },
   "outputs": [
    {
     "data": {
      "text/plain": [
       "3.170647321428575"
      ]
     },
     "execution_count": 2,
     "metadata": {},
     "output_type": "execute_result"
    }
   ],
   "source": [
    "sel['평가점수'].mean()"
   ]
  },
  {
   "cell_type": "code",
   "execution_count": 3,
   "id": "9ab6c601",
   "metadata": {},
   "outputs": [],
   "source": [
    "jm=(sel['평가점수']>=3.17)&(sel['업종']=='치킨') # 평가 점수가 평균보다 높은 경우"
   ]
  },
  {
   "cell_type": "code",
   "execution_count": 4,
   "id": "f7e2f28c",
   "metadata": {},
   "outputs": [
    {
     "data": {
      "text/html": [
       "<div>\n",
       "<style scoped>\n",
       "    .dataframe tbody tr th:only-of-type {\n",
       "        vertical-align: middle;\n",
       "    }\n",
       "\n",
       "    .dataframe tbody tr th {\n",
       "        vertical-align: top;\n",
       "    }\n",
       "\n",
       "    .dataframe thead th {\n",
       "        text-align: right;\n",
       "    }\n",
       "</style>\n",
       "<table border=\"1\" class=\"dataframe\">\n",
       "  <thead>\n",
       "    <tr style=\"text-align: right;\">\n",
       "      <th></th>\n",
       "      <th>Unnamed: 0</th>\n",
       "      <th>업종</th>\n",
       "      <th>가게이름</th>\n",
       "      <th>평가점수</th>\n",
       "      <th>평가인원</th>\n",
       "      <th>리뷰갯수</th>\n",
       "      <th>주소</th>\n",
       "      <th>Latitude</th>\n",
       "      <th>Longitude</th>\n",
       "      <th>전화</th>\n",
       "      <th>영업시간</th>\n",
       "      <th>링크주소</th>\n",
       "    </tr>\n",
       "  </thead>\n",
       "  <tbody>\n",
       "    <tr>\n",
       "      <th>32</th>\n",
       "      <td>20663</td>\n",
       "      <td>치킨</td>\n",
       "      <td>훌랄라숯불치킨 당산역점</td>\n",
       "      <td>5.0</td>\n",
       "      <td>1</td>\n",
       "      <td>0</td>\n",
       "      <td>서울 영등포구 선유동2로 73</td>\n",
       "      <td>37.535079</td>\n",
       "      <td>126.898442</td>\n",
       "      <td>02-2671-9977</td>\n",
       "      <td>영업시간 월~토 16:00 ~ 24:00</td>\n",
       "      <td>https://place.map.kakao.com/394972486#review</td>\n",
       "    </tr>\n",
       "  </tbody>\n",
       "</table>\n",
       "</div>"
      ],
      "text/plain": [
       "    Unnamed: 0  업종          가게이름  평가점수  평가인원  리뷰갯수                주소  \\\n",
       "32       20663  치킨  훌랄라숯불치킨 당산역점   5.0     1     0  서울 영등포구 선유동2로 73   \n",
       "\n",
       "     Latitude   Longitude            전화                    영업시간  \\\n",
       "32  37.535079  126.898442  02-2671-9977  영업시간 월~토 16:00 ~ 24:00   \n",
       "\n",
       "                                            링크주소  \n",
       "32  https://place.map.kakao.com/394972486#review  "
      ]
     },
     "execution_count": 4,
     "metadata": {},
     "output_type": "execute_result"
    }
   ],
   "source": [
    "sj=sel[jm]\n",
    "sj.head(1)"
   ]
  },
  {
   "cell_type": "markdown",
   "id": "bc8f09ab",
   "metadata": {},
   "source": [
    "# 평균  평가점수 보다 높은 가게 위치"
   ]
  },
  {
   "cell_type": "code",
   "execution_count": 6,
   "id": "b98c1938",
   "metadata": {},
   "outputs": [
    {
     "name": "stdout",
     "output_type": "stream",
     "text": [
      "Collecting folium\n",
      "  Downloading folium-0.12.1-py2.py3-none-any.whl (94 kB)\n",
      "Requirement already satisfied: requests in c:\\users\\504\\anaconda3\\lib\\site-packages (from folium) (2.25.1)\n",
      "Requirement already satisfied: numpy in c:\\users\\504\\anaconda3\\lib\\site-packages (from folium) (1.19.5)\n",
      "Collecting branca>=0.3.0\n",
      "  Downloading branca-0.4.2-py3-none-any.whl (24 kB)\n",
      "Requirement already satisfied: jinja2>=2.9 in c:\\users\\504\\anaconda3\\lib\\site-packages (from folium) (2.11.3)\n",
      "Requirement already satisfied: MarkupSafe>=0.23 in c:\\users\\504\\anaconda3\\lib\\site-packages (from jinja2>=2.9->folium) (1.1.1)\n",
      "Requirement already satisfied: certifi>=2017.4.17 in c:\\users\\504\\anaconda3\\lib\\site-packages (from requests->folium) (2020.12.5)\n",
      "Requirement already satisfied: urllib3<1.27,>=1.21.1 in c:\\users\\504\\anaconda3\\lib\\site-packages (from requests->folium) (1.26.4)\n",
      "Requirement already satisfied: idna<3,>=2.5 in c:\\users\\504\\anaconda3\\lib\\site-packages (from requests->folium) (2.10)\n",
      "Requirement already satisfied: chardet<5,>=3.0.2 in c:\\users\\504\\anaconda3\\lib\\site-packages (from requests->folium) (4.0.0)\n",
      "Installing collected packages: branca, folium\n",
      "Successfully installed branca-0.4.2 folium-0.12.1\n"
     ]
    }
   ],
   "source": [
    "#!pip install folium"
   ]
  },
  {
   "cell_type": "code",
   "execution_count": 5,
   "id": "8df766b6",
   "metadata": {
    "scrolled": true
   },
   "outputs": [
    {
     "ename": "ModuleNotFoundError",
     "evalue": "No module named 'folium'",
     "output_type": "error",
     "traceback": [
      "\u001b[1;31m---------------------------------------------------------------------------\u001b[0m",
      "\u001b[1;31mModuleNotFoundError\u001b[0m                       Traceback (most recent call last)",
      "\u001b[1;32m<ipython-input-5-343d02287006>\u001b[0m in \u001b[0;36m<module>\u001b[1;34m\u001b[0m\n\u001b[0;32m      1\u001b[0m \u001b[1;32mimport\u001b[0m \u001b[0mpandas\u001b[0m \u001b[1;32mas\u001b[0m \u001b[0mpd\u001b[0m\u001b[1;33m\u001b[0m\u001b[1;33m\u001b[0m\u001b[0m\n\u001b[1;32m----> 2\u001b[1;33m \u001b[1;32mimport\u001b[0m \u001b[0mfolium\u001b[0m \u001b[1;32mas\u001b[0m \u001b[0mg\u001b[0m\u001b[1;33m\u001b[0m\u001b[1;33m\u001b[0m\u001b[0m\n\u001b[0m\u001b[0;32m      3\u001b[0m \u001b[1;33m\u001b[0m\u001b[0m\n\u001b[0;32m      4\u001b[0m \u001b[1;33m\u001b[0m\u001b[0m\n\u001b[0;32m      5\u001b[0m \u001b[1;31m# 기준이 될 장소 선정\u001b[0m\u001b[1;33m\u001b[0m\u001b[1;33m\u001b[0m\u001b[1;33m\u001b[0m\u001b[0m\n",
      "\u001b[1;31mModuleNotFoundError\u001b[0m: No module named 'folium'"
     ]
    }
   ],
   "source": [
    "\n",
    "import pandas as pd\n",
    "import folium as g\n",
    "\n",
    "\n",
    "# 기준이 될 장소 선정\n",
    "sample_map = g.Map(location = [37.55,126.98],\n",
    "              tiles='Stamen Terrain',\n",
    "              zoom_start =12)\n",
    "\n",
    "for name ,lat,lng in zip(sj['가게이름'],sj['Latitude'],sj['Longitude']):\n",
    "    g.Marker([lat,lng],\n",
    "            popup=name,\n",
    "            icon=g.Icon(color='red',icon='star')).add_to(sample_map)\n",
    "    \n",
    "sample_map"
   ]
  },
  {
   "cell_type": "code",
   "execution_count": null,
   "id": "3dd47418",
   "metadata": {},
   "outputs": [],
   "source": [
    "jm1=(sel['평가점수']<=3.17)&(sel['업종']=='치킨')"
   ]
  },
  {
   "cell_type": "code",
   "execution_count": null,
   "id": "877a005f",
   "metadata": {},
   "outputs": [],
   "source": [
    "sj1=sel[jm1]\n",
    "sj1.head(1)"
   ]
  },
  {
   "cell_type": "markdown",
   "id": "2201a068",
   "metadata": {},
   "source": [
    "# 평가기준 높은 집은 초록색 낮은 집은 빨간색"
   ]
  },
  {
   "cell_type": "code",
   "execution_count": null,
   "id": "2ec26c6b",
   "metadata": {},
   "outputs": [],
   "source": [
    "sj.columns"
   ]
  },
  {
   "cell_type": "markdown",
   "id": "73cb5635",
   "metadata": {},
   "source": [
    "# 치킨 평가점수 평균에 따른 지도 시각화 결론"
   ]
  },
  {
   "cell_type": "code",
   "execution_count": null,
   "id": "232fc9e2",
   "metadata": {
    "scrolled": true
   },
   "outputs": [],
   "source": [
    "import pandas as pd\n",
    "import folium as g \n",
    "# folium 설치전에 prompt에서 pip install folium 해주세요\n",
    "\n",
    "\n",
    "# 평가 점수 평균 : 3.17\n",
    "# sj1 이 평균보다 낮은곳\n",
    "# sj가 평균보다 높은곳\n",
    "\n",
    "# 기준이 될 장소 선정\n",
    "sample_map = g.Map(location = [37.55,126.98],\n",
    "              tiles='Stamen Terrain',\n",
    "              zoom_start =12)\n",
    "\n",
    "for name ,lat,lng,sc,man,rev,time in zip(sj1['가게이름'],sj1['Latitude'],sj1['Longitude'],sj1['평가점수'],sj1['평가인원'],sj1['리뷰갯수'],sj1['영업시간']):\n",
    "    g.Marker([lat,lng],\n",
    "            popup=('<pre><i>',\"가게이름:\"+name,\"평가점수:\"+str(sc),\"평가인원:\"+str(man),\n",
    "                   \"리뷰갯수:\"+str(rev),\"영업시간:\"+str(time),'</i></pre>'), \n",
    "            tooltip=sc, #평가점수 보임\n",
    "            icon=g.Icon(color='red',icon='star')).add_to(sample_map)\n",
    "    \n",
    "    for name,lat,lng,sc,man,rev,time in zip(sj['가게이름'],sj['Latitude'],sj['Longitude'],sj['평가점수'],sj['평가인원'],sj['리뷰갯수'],sj['영업시간']):\n",
    "        g.Marker([lat,lng],\n",
    "            popup=('<pre><i>',\"가게이름:\"+name,\"평가점수:\"+str(sc),\"평가인원:\"+str(man), # pre 로 글자를 가로로 출력 i로 글자체 변경\n",
    "                   \"리뷰갯수:\"+str(rev),\"영업시간:\"+str(time),'</i></pre>'),             \n",
    "            tooltip=sc,\n",
    "            icon=g.Icon(color='green',icon='star')).add_to(sample_map)\n",
    "sample_map"
   ]
  },
  {
   "cell_type": "code",
   "execution_count": null,
   "id": "216f356f",
   "metadata": {},
   "outputs": [],
   "source": [
    "\n",
    "# 시각화 모듈 임포트 \n",
    "\n",
    "import matplotlib.pyplot as plt \n",
    "import seaborn as sns \n",
    "\n",
    "\n",
    "# jupyter notebook 내 그래프를 바로 그리기 위한 설정 \n",
    "%matplotlib inline  \n",
    "#속도빠르게하기위한건데 고려해볼필요있음\n",
    "\n",
    "# unicode minus를 사용하지 않기 위한 설정 (minus 깨짐현상 방지) \n",
    "plt.rcParams['axes.unicode_minus'] = False"
   ]
  },
  {
   "cell_type": "code",
   "execution_count": null,
   "id": "1b3de357",
   "metadata": {},
   "outputs": [],
   "source": [
    "# 한글 깨짐 방지\n",
    "\n",
    "plt.rcParams['font.family'] = 'NanumGothic'"
   ]
  },
  {
   "cell_type": "code",
   "execution_count": null,
   "id": "cb7eb486",
   "metadata": {},
   "outputs": [],
   "source": [
    "import matplotlib.font_manager as fm \n",
    "\n",
    "# 설치된 폰트 출력 \n",
    "font_list = [font.name for font in fm.fontManager.ttflist] \n",
    "font_list"
   ]
  },
  {
   "cell_type": "code",
   "execution_count": null,
   "id": "bb968b67",
   "metadata": {},
   "outputs": [],
   "source": [
    "plt.rc('axes', unicode_minus=False) # 마이너스 폰트 설정\n",
    "%config InlineBackend.figure_format='retina' # 그래프 글씨 뚜렷"
   ]
  },
  {
   "cell_type": "markdown",
   "id": "a44fc976",
   "metadata": {},
   "source": [
    "#  그래프 참고 사이트\n",
    "https://hyemin-kim.github.io/2020/07/03/S-Python-Seaborn1/"
   ]
  },
  {
   "cell_type": "code",
   "execution_count": null,
   "id": "5b7bd9c0",
   "metadata": {
    "scrolled": true
   },
   "outputs": [],
   "source": [
    "# sj1 이 평균보다 낮은곳\n",
    "# sj가 평균보다 높은곳\n",
    "\n",
    "import warnings\n",
    "warnings.filterwarnings('ignore') #경고메시지가 뜹니다~\n",
    "\n",
    "x1 = sj1['가게이름']\n",
    "y1 = sj1['평가점수']\n",
    "\n",
    "x = sj['가게이름']\n",
    "y = sj['평가점수']\n",
    "\n",
    "plt.figure(figsize=(13, 5)) \n",
    "plt.rcParams['figure.figsize'] = (13, 8)# figsize 를 전역으로 설정 \n",
    "plt.xlim(0.0,5.0)\n",
    "plt.rcParams['font.size'] = 13 # font 크기 조절 \n",
    "\n",
    "sns.barplot(y1,x1,alpha=0.8,palette=\"Spectral\")# 평균보다 낮은곳 기준3.17\n",
    "\n"
   ]
  },
  {
   "cell_type": "code",
   "execution_count": null,
   "id": "6d868010",
   "metadata": {},
   "outputs": [],
   "source": [
    "sns.barplot(y,x,alpha =0.8,palette='YlOrRd') #평가 점수보다 높은곳 기준3.17"
   ]
  },
  {
   "cell_type": "code",
   "execution_count": null,
   "id": "ac675bfb",
   "metadata": {
    "scrolled": false
   },
   "outputs": [],
   "source": [
    "# sj1 이 평균보다 낮은곳\n",
    "# sj가 평균보다 높은곳\n",
    "\n",
    "import warnings\n",
    "warnings.filterwarnings('ignore') #경고메시지가 뜹니다~\n",
    "\n",
    "x1 = sj1['가게이름']\n",
    "y1 = sj1['평가인원']\n",
    "\n",
    "y2= sj1['평가점수']\n",
    "plt.figure(figsize=(13, 5)) \n",
    "plt.rcParams['figure.figsize'] = (13, 8)# figsize 를 전역으로 설정 \n",
    "#plt.xlim(0.0,5.0)\n",
    "plt.rcParams['font.size'] = 13 # font 크기 조절 \n",
    "\n",
    "sns.barplot(y1,x1,alpha=0.8,palette=\"Set2\",label='평가인원')# 평균보다 낮은곳 기준3.17\n",
    "\n",
    "sns.scatterplot(y2,x1,alpha=0.8,color=\"Red\",label='평가점수') # 평가에 참여한 인원\n"
   ]
  },
  {
   "cell_type": "code",
   "execution_count": null,
   "id": "fe14a630",
   "metadata": {},
   "outputs": [],
   "source": [
    "x = sj['가게이름']\n",
    "y = sj['평가인원']\n",
    "\n",
    "y3= sj['평가점수']\n",
    "\n",
    "plt.figure(figsize=(13, 5)) \n",
    "plt.rcParams['figure.figsize'] = (13, 8)# figsize 를 전역으로 설정 \n",
    "#plt.xlim(0.0,5.0)\n",
    "plt.rcParams['font.size'] = 13 # font 크기 조절 \n",
    "\n",
    "sns.barplot(y,x,alpha=0.8,palette=\"Set2\",label='평가인원')# 평균보다 낮은곳 기준3.17\n",
    "\n",
    "sns.scatterplot(y3,x,alpha=0.8,color=\"Red\",label='평가점수') # 평가에 참여한 인원\n"
   ]
  }
 ],
 "metadata": {
  "kernelspec": {
   "display_name": "Python 3",
   "language": "python",
   "name": "python3"
  },
  "language_info": {
   "codemirror_mode": {
    "name": "ipython",
    "version": 3
   },
   "file_extension": ".py",
   "mimetype": "text/x-python",
   "name": "python",
   "nbconvert_exporter": "python",
   "pygments_lexer": "ipython3",
   "version": "3.8.8"
  }
 },
 "nbformat": 4,
 "nbformat_minor": 5
}
