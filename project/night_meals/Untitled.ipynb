{
 "cells": [
  {
   "cell_type": "code",
   "execution_count": null,
   "id": "bad20244",
   "metadata": {},
   "outputs": [],
   "source": [
    "!pip install usecsv"
   ]
  },
  {
   "cell_type": "code",
   "execution_count": null,
   "id": "66f52f1b",
   "metadata": {},
   "outputs": [],
   "source": [
    "#import os, re, usecsv\n",
    "import os, re\n",
    "import requests\n",
    "import pandas as pd\n",
    "import numpy as np\n",
    "from bs4 import BeautifulSoup as bs\n",
    "import urllib.request as ur\n",
    "from selenium import webdriver\n",
    "from selenium.webdriver.common.keys import Keys\n",
    "import time\n",
    "\n",
    "browser = webdriver.Chrome(\"D:/00_Limhs/py_data/drv/chromedriver.exe\")\n",
    "browser.get(\"https://www.yogiyo.co.kr/mobile/#/452598/\")\n",
    "browser.maximize_window()\n",
    "elem = browser.find_element_by_xpath(\"//*[@id='content']/div[2]/div[1]/ul/li[2]/a\")\n",
    "elem.click()\n",
    "\n",
    "elem = browser.find_element_by_xpath(\"//*[@id='review']/li[12]\")\n",
    "\n",
    "# 화면 가장 아래로 스크롤 내리기\n",
    "browser.execute_script(\"window.scrollTo(0, document.body.scrollHeight)\")\n",
    "\n",
    "interval = 2 # 2초에 한번씩 스크롤 내림\n",
    "\n",
    "# 현재 문서 높이를 가져와서 저장\n",
    "prev_height = browser.execute_script(\"return document.body.scrollHeight\")\n",
    "\n",
    "# 반복 수행\n",
    "while True:\n",
    "    # 스크롤을 가장 아래로 내림\n",
    "    browser.execute_script(\"window.scrollTo(0, document.body.scrollHeight)\")\n",
    "    try:\n",
    "        elem.click()\n",
    "    except:\n",
    "        pass\n",
    "    \n",
    "    # 페이지 로딩 대기\n",
    "    time.sleep(interval)\n",
    "\n",
    "    # 현재 문서 높이를 가져와서 저장\n",
    "    curr_height = browser.execute_script(\"return document.body.scrollHeight\")\n",
    "    if curr_height == prev_height:\n",
    "        break\n",
    "\n",
    "    prev_height = curr_height\n",
    "\n",
    "print(\"스크롤 완료\")"
   ]
  },
  {
   "cell_type": "code",
   "execution_count": null,
   "id": "16532c8a",
   "metadata": {},
   "outputs": [],
   "source": [
    "soup = bs(browser.page_source, \"lxml\")\n",
    "# page_source로 스크롤 끝까지 내렸을 때의 html 정보를 가져오게 됨\n",
    "\n",
    "# 정보) 속성을 리스트로 감싸주어 조건을 만족하는 모든 데이터를 가져올 수 있다.\n",
    "# reviews = soup.find_all(\"div\", attrs={\"class\":[\"ImZGtf mpg5gc\", \"Vpfmgd\"]})\n",
    "reviews = soup.find_all(\"li\", attrs={\"class\": \"list-group-item star-point ng-scope\"})\n",
    "print(len(reviews))\n",
    "total_average = 0 # 리뷰 전체 평균\n",
    "taste_average = 0 # 맛 전체 평균\n",
    "quantity_average = 0 # 양 전체 평균\n",
    "delivery_average = 0 # 배달 전체 평균\n",
    "\n",
    "for review in reviews:\n",
    "    taste = review.find(\"span\", attrs={\"class\": \"points ng-binding\", \"ng-show\":\"review.rating_taste > 0\"})\n",
    "    quantity = review.find(\"span\", attrs={\"class\": \"points ng-binding\", \"ng-show\":\"review.rating_quantity > 0\"})\n",
    "    delivery = review.find(\"span\", attrs={\"class\": \"points ng-binding\", \"ng-show\":\"review.rating_delivery > 0\"})\n",
    "    # <span class=\"points ng-binding\" ng-show=\"review.rating_taste &gt; 0\">5</span> 여기서 5만 가져오려면 get_text() or text\n",
    "    review_point = (int(taste.text) + int(quantity.text) + int(delivery.text))/3\n",
    "    taste_point = int(taste.text)\n",
    "    quantity_point = int(quantity.text)\n",
    "    delivery_point = int(delivery.text)\n",
    "    total_average += review_point\n",
    "    taste_average += taste_point\n",
    "    quantity_average += quantity_point\n",
    "    delivery_average += delivery_point\n",
    "\n",
    "print(\"-\" * 25 + \"[    Result    ]\" + \"-\" * 25)\n",
    "print(f\"전체 평점 : {round(total_average/len(reviews), 1)}\")\n",
    "print(f\"맛 평점 : {round(taste_average/len(reviews), 1)}\")\n",
    "print(f\"양 평점 : {round(quantity_average/len(reviews), 1)}\")\n",
    "print(f\"배달 평점 : {round(delivery_average/len(reviews), 1)}\")\n"
   ]
  },
  {
   "cell_type": "code",
   "execution_count": 1,
   "id": "37a0c153",
   "metadata": {},
   "outputs": [],
   "source": [
    "# 요기요 크롤링\n",
    "from selenium import webdriver\n",
    "import time\n",
    "from bs4 import BeautifulSoup\n",
    "import re"
   ]
  },
  {
   "cell_type": "code",
   "execution_count": 2,
   "id": "e2fc165d",
   "metadata": {},
   "outputs": [
    {
     "name": "stdout",
     "output_type": "stream",
     "text": [
      "지역을 입력하세요원곡동\n"
     ]
    }
   ],
   "source": [
    "# url입력\n",
    "driver = webdriver.Chrome(\"D:/00_Limhs/py_data/drv/chromedriver.exe\") # 크롬드라이버 경로 설정\n",
    "url = \"https://www.yogiyo.co.kr/\" # 사이트 입력\n",
    "driver.get(url) # 사이트 오픈\n",
    "driver.maximize_window() # 전체장\n",
    "time.sleep(2) # 2초 지연\n",
    "\n",
    "# 검색창 선택\n",
    "xpath = '''//*[@id=\"search\"]/div/form/input'''  # 검색창\n",
    "element = driver.find_element_by_xpath(xpath)\n",
    "element.clear()\n",
    "time.sleep(2)\n",
    "\n",
    "# 검색창 입력\n",
    "value = input(\"지역을 입력하세요\")\n",
    "element.send_keys(value)\n",
    "time.sleep(2)\n",
    "\n",
    "# 조회버튼 클릭\n",
    "search_xpath = '''//*[@id=\"button_search_address\"]/button[2]'''\n",
    "driver.find_element_by_xpath(search_xpath).click()\n",
    "\n",
    "time.sleep(3)"
   ]
  },
  {
   "cell_type": "code",
   "execution_count": 3,
   "id": "48bd8e03",
   "metadata": {},
   "outputs": [
    {
     "ename": "NoSuchWindowException",
     "evalue": "Message: no such window: target window already closed\nfrom unknown error: web view not found\n  (Session info: chrome=95.0.4638.69)\n",
     "output_type": "error",
     "traceback": [
      "\u001b[1;31m---------------------------------------------------------------------------\u001b[0m",
      "\u001b[1;31mNoSuchWindowException\u001b[0m                     Traceback (most recent call last)",
      "\u001b[1;32m<ipython-input-3-83c9f11a1fc8>\u001b[0m in \u001b[0;36m<module>\u001b[1;34m\u001b[0m\n\u001b[0;32m     12\u001b[0m \u001b[1;32mwhile\u001b[0m \u001b[1;32mTrue\u001b[0m \u001b[1;33m:\u001b[0m\u001b[1;33m\u001b[0m\u001b[1;33m\u001b[0m\u001b[0m\n\u001b[0;32m     13\u001b[0m     \u001b[0mdriver\u001b[0m\u001b[1;33m.\u001b[0m\u001b[0mexecute_script\u001b[0m\u001b[1;33m(\u001b[0m\u001b[1;34m\"window.scrollTo(0, document.body.scrollHeight)\"\u001b[0m\u001b[1;33m)\u001b[0m  \u001b[1;31m# 스크롤을 가장 아래로 내린다\u001b[0m\u001b[1;33m\u001b[0m\u001b[1;33m\u001b[0m\u001b[0m\n\u001b[1;32m---> 14\u001b[1;33m     \u001b[0mcur_height\u001b[0m \u001b[1;33m=\u001b[0m \u001b[0mdriver\u001b[0m\u001b[1;33m.\u001b[0m\u001b[0mexecute_script\u001b[0m\u001b[1;33m(\u001b[0m\u001b[1;34m\"return document.body.scrollHeight\"\u001b[0m\u001b[1;33m)\u001b[0m  \u001b[1;31m# 현재 스크롤을 저장한다.\u001b[0m\u001b[1;33m\u001b[0m\u001b[1;33m\u001b[0m\u001b[0m\n\u001b[0m\u001b[0;32m     15\u001b[0m     \u001b[1;32mif\u001b[0m \u001b[0mpre_height\u001b[0m \u001b[1;33m==\u001b[0m \u001b[0mcur_height\u001b[0m \u001b[1;33m:\u001b[0m\u001b[1;33m\u001b[0m\u001b[1;33m\u001b[0m\u001b[0m\n\u001b[0;32m     16\u001b[0m         \u001b[1;32mbreak\u001b[0m\u001b[1;33m\u001b[0m\u001b[1;33m\u001b[0m\u001b[0m\n",
      "\u001b[1;32m~\\anaconda3\\lib\\site-packages\\selenium\\webdriver\\remote\\webdriver.py\u001b[0m in \u001b[0;36mexecute_script\u001b[1;34m(self, script, *args)\u001b[0m\n\u001b[0;32m    632\u001b[0m             \u001b[0mcommand\u001b[0m \u001b[1;33m=\u001b[0m \u001b[0mCommand\u001b[0m\u001b[1;33m.\u001b[0m\u001b[0mEXECUTE_SCRIPT\u001b[0m\u001b[1;33m\u001b[0m\u001b[1;33m\u001b[0m\u001b[0m\n\u001b[0;32m    633\u001b[0m \u001b[1;33m\u001b[0m\u001b[0m\n\u001b[1;32m--> 634\u001b[1;33m         return self.execute(command, {\n\u001b[0m\u001b[0;32m    635\u001b[0m             \u001b[1;34m'script'\u001b[0m\u001b[1;33m:\u001b[0m \u001b[0mscript\u001b[0m\u001b[1;33m,\u001b[0m\u001b[1;33m\u001b[0m\u001b[1;33m\u001b[0m\u001b[0m\n\u001b[0;32m    636\u001b[0m             'args': converted_args})['value']\n",
      "\u001b[1;32m~\\anaconda3\\lib\\site-packages\\selenium\\webdriver\\remote\\webdriver.py\u001b[0m in \u001b[0;36mexecute\u001b[1;34m(self, driver_command, params)\u001b[0m\n\u001b[0;32m    319\u001b[0m         \u001b[0mresponse\u001b[0m \u001b[1;33m=\u001b[0m \u001b[0mself\u001b[0m\u001b[1;33m.\u001b[0m\u001b[0mcommand_executor\u001b[0m\u001b[1;33m.\u001b[0m\u001b[0mexecute\u001b[0m\u001b[1;33m(\u001b[0m\u001b[0mdriver_command\u001b[0m\u001b[1;33m,\u001b[0m \u001b[0mparams\u001b[0m\u001b[1;33m)\u001b[0m\u001b[1;33m\u001b[0m\u001b[1;33m\u001b[0m\u001b[0m\n\u001b[0;32m    320\u001b[0m         \u001b[1;32mif\u001b[0m \u001b[0mresponse\u001b[0m\u001b[1;33m:\u001b[0m\u001b[1;33m\u001b[0m\u001b[1;33m\u001b[0m\u001b[0m\n\u001b[1;32m--> 321\u001b[1;33m             \u001b[0mself\u001b[0m\u001b[1;33m.\u001b[0m\u001b[0merror_handler\u001b[0m\u001b[1;33m.\u001b[0m\u001b[0mcheck_response\u001b[0m\u001b[1;33m(\u001b[0m\u001b[0mresponse\u001b[0m\u001b[1;33m)\u001b[0m\u001b[1;33m\u001b[0m\u001b[1;33m\u001b[0m\u001b[0m\n\u001b[0m\u001b[0;32m    322\u001b[0m             response['value'] = self._unwrap_value(\n\u001b[0;32m    323\u001b[0m                 response.get('value', None))\n",
      "\u001b[1;32m~\\anaconda3\\lib\\site-packages\\selenium\\webdriver\\remote\\errorhandler.py\u001b[0m in \u001b[0;36mcheck_response\u001b[1;34m(self, response)\u001b[0m\n\u001b[0;32m    240\u001b[0m                 \u001b[0malert_text\u001b[0m \u001b[1;33m=\u001b[0m \u001b[0mvalue\u001b[0m\u001b[1;33m[\u001b[0m\u001b[1;34m'alert'\u001b[0m\u001b[1;33m]\u001b[0m\u001b[1;33m.\u001b[0m\u001b[0mget\u001b[0m\u001b[1;33m(\u001b[0m\u001b[1;34m'text'\u001b[0m\u001b[1;33m)\u001b[0m\u001b[1;33m\u001b[0m\u001b[1;33m\u001b[0m\u001b[0m\n\u001b[0;32m    241\u001b[0m             \u001b[1;32mraise\u001b[0m \u001b[0mexception_class\u001b[0m\u001b[1;33m(\u001b[0m\u001b[0mmessage\u001b[0m\u001b[1;33m,\u001b[0m \u001b[0mscreen\u001b[0m\u001b[1;33m,\u001b[0m \u001b[0mstacktrace\u001b[0m\u001b[1;33m,\u001b[0m \u001b[0malert_text\u001b[0m\u001b[1;33m)\u001b[0m\u001b[1;33m\u001b[0m\u001b[1;33m\u001b[0m\u001b[0m\n\u001b[1;32m--> 242\u001b[1;33m         \u001b[1;32mraise\u001b[0m \u001b[0mexception_class\u001b[0m\u001b[1;33m(\u001b[0m\u001b[0mmessage\u001b[0m\u001b[1;33m,\u001b[0m \u001b[0mscreen\u001b[0m\u001b[1;33m,\u001b[0m \u001b[0mstacktrace\u001b[0m\u001b[1;33m)\u001b[0m\u001b[1;33m\u001b[0m\u001b[1;33m\u001b[0m\u001b[0m\n\u001b[0m\u001b[0;32m    243\u001b[0m \u001b[1;33m\u001b[0m\u001b[0m\n\u001b[0;32m    244\u001b[0m     \u001b[1;32mdef\u001b[0m \u001b[0m_value_or_default\u001b[0m\u001b[1;33m(\u001b[0m\u001b[0mself\u001b[0m\u001b[1;33m,\u001b[0m \u001b[0mobj\u001b[0m\u001b[1;33m,\u001b[0m \u001b[0mkey\u001b[0m\u001b[1;33m,\u001b[0m \u001b[0mdefault\u001b[0m\u001b[1;33m)\u001b[0m\u001b[1;33m:\u001b[0m\u001b[1;33m\u001b[0m\u001b[1;33m\u001b[0m\u001b[0m\n",
      "\u001b[1;31mNoSuchWindowException\u001b[0m: Message: no such window: target window already closed\nfrom unknown error: web view not found\n  (Session info: chrome=95.0.4638.69)\n"
     ]
    }
   ],
   "source": [
    "# 검색 콤보상자 선택\n",
    "# 선택 : #search > div > form > ul > li:nth-child(3) > a\n",
    "search_selector = '#search > div > form > ul > li:nth-child(3) > a'\n",
    "search = driver.find_element_by_css_selector(search_selector)\n",
    "search.click()\n",
    "time.sleep(3)\n",
    "\n",
    "driver.execute_script(\"window.scrollTo(0, document.body.scrollHeight)\") # 스크롤을 가장 아래로 내린다\n",
    "time.sleep(2)\n",
    "pre_height = driver.execute_script(\"return document.body.scrollHeight\") # 현재 스크롤 위치 저장\n",
    "\n",
    "while True :\n",
    "    driver.execute_script(\"window.scrollTo(0, document.body.scrollHeight)\")  # 스크롤을 가장 아래로 내린다\n",
    "    cur_height = driver.execute_script(\"return document.body.scrollHeight\")  # 현재 스크롤을 저장한다.\n",
    "    if pre_height == cur_height :\n",
    "        break\n",
    "    pre_height == cur_height\n",
    "time.sleep(3)"
   ]
  },
  {
   "cell_type": "code",
   "execution_count": null,
   "id": "f6cb7587",
   "metadata": {},
   "outputs": [],
   "source": [
    "# 페이지 소스 출력\n",
    "html = driver.page_source\n",
    "html_source = BeautifulSoup(html, 'html.parser')"
   ]
  },
  {
   "cell_type": "code",
   "execution_count": null,
   "id": "feeeed63",
   "metadata": {},
   "outputs": [],
   "source": [
    "# 데이터 추출\n",
    "restaurant_name = html_source.find_all(\"div\", class_ = \"restaurant-name ng-binding\") #업체명\n",
    "restaurant_score = html_source.find_all(\"span\", class_ = \"ico-star1 ng-binding\") #별점\n",
    "restaurant_review = html_source.find_all(\"span\", attrs = {\"class\":\"review_num ng-binding\", \"ng-show\":\"restaurant.review_count > 0\"}) # 리뷰 수\n",
    "restaurant_ceo_review = html_source.find_all(\"span\", attrs = {\"class\":\"review_num ng-binding\", \"ng-show\":\"restaurant.owner_reply_count > 0\"}) # 사장님 리뷰\n",
    "del_limit = html_source.find_all(\"li\", class_ = \"delivery-time ng-binding\") # 배달소요시간\n",
    "\n",
    "sub_list = []\n",
    "result_list = []\n",
    "#데이터 배열\n",
    "for i, j, k, l, m in zip(restaurant_name, restaurant_score, restaurant_review, restaurant_ceo_review, del_limit) :\n",
    "    sub_list.append(i.string) # 업체명\n",
    "    sub_list.append(j.string.replace(\"★ \",\"\")) # 별점 스코어\n",
    "    sub_list.append(re.sub(\" |\\n|리뷰\",\"\",k.string)) # 리뷰 수\n",
    "    sub_list.append(re.sub(\" |\\n|사장님댓글\",\"\",l.string)) # 사장님 리뷰\n",
    "    sub_list.append(m.string.replace(\"\\n\",\"\").replace(\" \",\"\")) # 배달소요시간\n",
    "    result_list.append(sub_list) # 리스트 요소 추가\n",
    "    sub_list = [] # 변수 초기화\n",
    "\n",
    "print(sub_list)\n",
    "print(result_list)\n",
    "time.sleep(30)\n",
    "driver.close() # 크롬드라이버 종료"
   ]
  },
  {
   "cell_type": "code",
   "execution_count": null,
   "id": "3ad76faf",
   "metadata": {},
   "outputs": [],
   "source": []
  }
 ],
 "metadata": {
  "kernelspec": {
   "display_name": "Python 3",
   "language": "python",
   "name": "python3"
  },
  "language_info": {
   "codemirror_mode": {
    "name": "ipython",
    "version": 3
   },
   "file_extension": ".py",
   "mimetype": "text/x-python",
   "name": "python",
   "nbconvert_exporter": "python",
   "pygments_lexer": "ipython3",
   "version": "3.8.8"
  }
 },
 "nbformat": 4,
 "nbformat_minor": 5
}
